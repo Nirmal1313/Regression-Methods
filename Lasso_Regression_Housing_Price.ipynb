{
 "cells": [
  {
   "cell_type": "code",
   "execution_count": 52,
   "metadata": {},
   "outputs": [],
   "source": [
    "# Name:Rohit Yadav (6219913)\n",
    "# House Price prediction\n",
    "import numpy as np\n",
    "import pandas as pd \n",
    "import seaborn as sns\n",
    "import matplotlib\n",
    "import matplotlib.pyplot as plt\n",
    "from sklearn.preprocessing import scale\n",
    "from scipy.stats import skew, skewtest\n",
    "import warnings\n",
    "warnings.filterwarnings('ignore')"
   ]
  },
  {
   "cell_type": "code",
   "execution_count": 5,
   "metadata": {},
   "outputs": [
    {
     "name": "stdout",
     "output_type": "stream",
     "text": [
      "('Number of rows and columns in train dataset:', (1460, 81))\n",
      "('Number of rows and columns in test dataset:', (1459, 80))\n"
     ]
    }
   ],
   "source": [
    "path = '../input/'\n",
    "#path = 'dataset/'\n",
    "train = pd.read_csv('Desktop/HousePricesDataset/train.csv')\n",
    "test = pd.read_csv('Desktop/HousePricesDataset/test.csv')\n",
    "print('Number of rows and columns in train dataset:', train.shape)\n",
    "print('Number of rows and columns in test dataset:', test.shape)"
   ]
  },
  {
   "cell_type": "code",
   "execution_count": 6,
   "metadata": {},
   "outputs": [
    {
     "name": "stdout",
     "output_type": "stream",
     "text": [
      "yes, we have missing values\n",
      "--------------------------------------------------------------------------------\n",
      "Nan in the data sets\n",
      "              Train Dataset  Test Dataset\n",
      "Alley                  1369        1352.0\n",
      "BsmtCond                 37          45.0\n",
      "BsmtExposure             38          44.0\n",
      "BsmtFinSF1                0           1.0\n",
      "BsmtFinSF2                0           1.0\n",
      "BsmtFinType1             37          42.0\n",
      "BsmtFinType2             38          42.0\n",
      "BsmtFullBath              0           2.0\n",
      "BsmtHalfBath              0           2.0\n",
      "BsmtQual                 37          44.0\n",
      "BsmtUnfSF                 0           1.0\n",
      "Electrical                1           0.0\n",
      "Exterior1st               0           1.0\n",
      "Exterior2nd               0           1.0\n",
      "Fence                  1179        1169.0\n",
      "FireplaceQu             690         730.0\n",
      "Functional                0           2.0\n",
      "GarageArea                0           1.0\n",
      "GarageCars                0           1.0\n",
      "GarageCond               81          78.0\n",
      "GarageFinish             81          78.0\n",
      "GarageQual               81          78.0\n",
      "GarageType               81          76.0\n",
      "GarageYrBlt              81          78.0\n",
      "KitchenQual               0           1.0\n",
      "LotFrontage             259         227.0\n",
      "MSZoning                  0           4.0\n",
      "MasVnrArea                8          15.0\n",
      "MasVnrType                8          16.0\n",
      "MiscFeature            1406        1408.0\n",
      "PoolQC                 1453        1456.0\n",
      "SaleType                  0           1.0\n",
      "TotalBsmtSF               0           1.0\n",
      "Utilities                 0           2.0\n"
     ]
    }
   ],
   "source": [
    "datasetHasNan = False\n",
    "if train.count().min() == train.shape[0] and test.count().min() == test.shape[0] :\n",
    "    print('We do not need to worry about missing values.') \n",
    "else:\n",
    "    datasetHasNan = True\n",
    "    print('yes, we have missing values')\n",
    "\n",
    "# now list items    \n",
    "print('--'*40) \n",
    "if datasetHasNan == True:\n",
    "    nas = pd.concat([train.isnull().sum(), test.isnull().sum()], axis=1, keys=['Train Dataset', 'Test Dataset']) \n",
    "    print('Nan in the data sets')\n",
    "    print(nas[nas.sum(axis=1) > 0])"
   ]
  },
  {
   "cell_type": "code",
   "execution_count": 8,
   "metadata": {},
   "outputs": [],
   "source": [
    "# Explore features\n",
    "def feat_explore(column):\n",
    "    return train[column].value_counts()\n",
    "\n",
    "# Function to impute missing values\n",
    "def feat_impute(column, value):\n",
    "    train.loc[train[column].isnull(),column] = value\n",
    "    test.loc[test[column].isnull(),column] = value"
   ]
  },
  {
   "cell_type": "code",
   "execution_count": 9,
   "metadata": {},
   "outputs": [],
   "source": [
    "#PoolQC, MiscFeature, Alley, Fence will all be removed as they are missing over half of their observations.(Over 50% Missing)\n",
    "\n",
    "features_drop = ['PoolQC','MiscFeature','Alley','Fence']\n",
    "train = train.drop(features_drop, axis=1)\n",
    "test = test.drop(features_drop, axis=1) "
   ]
  },
  {
   "cell_type": "code",
   "execution_count": 11,
   "metadata": {},
   "outputs": [
    {
     "name": "stdout",
     "output_type": "stream",
     "text": [
      "('TRAIN: FireplaceQu Missing Before:', 690, '\\n', 'TEST: FireplaceQu Missing Before:', 730)\n"
     ]
    }
   ],
   "source": [
    "print('TRAIN: FireplaceQu Missing Before:', train['FireplaceQu'].isnull().sum(),'\\n',\n",
    "      'TEST: FireplaceQu Missing Before:', test['FireplaceQu'].isnull().sum())"
   ]
  },
  {
   "cell_type": "code",
   "execution_count": 9,
   "metadata": {},
   "outputs": [
    {
     "name": "stdout",
     "output_type": "stream",
     "text": [
      "     Train Dataset              Test Dataset            \n",
      "        Fireplaces FireplaceQu    Fireplaces FireplaceQu\n",
      "0              0.0         NaN           0.0         NaN\n",
      "1              NaN         NaN           0.0         NaN\n",
      "4              NaN         NaN           0.0         NaN\n",
      "5              0.0         NaN           NaN         NaN\n",
      "6              NaN         NaN           0.0         NaN\n",
      "9              NaN         NaN           0.0         NaN\n",
      "10             0.0         NaN           NaN         NaN\n",
      "11             NaN         NaN           0.0         NaN\n",
      "12             0.0         NaN           0.0         NaN\n",
      "14             NaN         NaN           0.0         NaN\n",
      "15             0.0         NaN           NaN         NaN\n",
      "16             NaN         NaN           0.0         NaN\n",
      "17             0.0         NaN           NaN         NaN\n",
      "18             0.0         NaN           NaN         NaN\n",
      "19             0.0         NaN           NaN         NaN\n",
      "22             NaN         NaN           0.0         NaN\n",
      "23             NaN         NaN           0.0         NaN\n",
      "26             0.0         NaN           NaN         NaN\n",
      "28             NaN         NaN           0.0         NaN\n",
      "29             0.0         NaN           NaN         NaN\n",
      "30             0.0         NaN           0.0         NaN\n",
      "31             0.0         NaN           0.0         NaN\n",
      "32             0.0         NaN           NaN         NaN\n",
      "36             0.0         NaN           0.0         NaN\n",
      "37             NaN         NaN           0.0         NaN\n",
      "38             0.0         NaN           0.0         NaN\n",
      "39             0.0         NaN           0.0         NaN\n",
      "40             NaN         NaN           0.0         NaN\n",
      "41             NaN         NaN           0.0         NaN\n",
      "42             0.0         NaN           NaN         NaN\n",
      "...            ...         ...           ...         ...\n",
      "1419           NaN         NaN           0.0         NaN\n",
      "1422           0.0         NaN           NaN         NaN\n",
      "1425           0.0         NaN           NaN         NaN\n",
      "1426           NaN         NaN           0.0         NaN\n",
      "1427           NaN         NaN           0.0         NaN\n",
      "1428           NaN         NaN           0.0         NaN\n",
      "1429           NaN         NaN           0.0         NaN\n",
      "1430           NaN         NaN           0.0         NaN\n",
      "1431           0.0         NaN           0.0         NaN\n",
      "1432           0.0         NaN           0.0         NaN\n",
      "1433           NaN         NaN           0.0         NaN\n",
      "1436           0.0         NaN           NaN         NaN\n",
      "1437           NaN         NaN           0.0         NaN\n",
      "1438           0.0         NaN           0.0         NaN\n",
      "1439           NaN         NaN           0.0         NaN\n",
      "1441           NaN         NaN           0.0         NaN\n",
      "1444           0.0         NaN           0.0         NaN\n",
      "1445           0.0         NaN           0.0         NaN\n",
      "1446           0.0         NaN           NaN         NaN\n",
      "1447           NaN         NaN           0.0         NaN\n",
      "1448           0.0         NaN           0.0         NaN\n",
      "1449           0.0         NaN           0.0         NaN\n",
      "1450           0.0         NaN           0.0         NaN\n",
      "1452           0.0         NaN           0.0         NaN\n",
      "1453           0.0         NaN           0.0         NaN\n",
      "1454           0.0         NaN           0.0         NaN\n",
      "1455           NaN         NaN           0.0         NaN\n",
      "1457           NaN         NaN           0.0         NaN\n",
      "1458           0.0         NaN           NaN         NaN\n",
      "1459           0.0         NaN           NaN         NaN\n",
      "\n",
      "[1057 rows x 4 columns]\n"
     ]
    }
   ],
   "source": [
    "#TRAIN: missing 690 observations. \n",
    "#TEST: missing 730 observations. \n",
    "#However, these nulls may be attributed to homes that do not have fireplaces at all. \n",
    "#If this assumption proves to be true, we can impute these nulls with '0' as they do not have a fireplace.\n",
    "\n",
    "# checking this assumption\n",
    "assumption1 = pd.concat([(train[train['FireplaceQu'].isnull()][['Fireplaces','FireplaceQu']]),\n",
    "                (test[test['FireplaceQu'].isnull()][['Fireplaces','FireplaceQu']])], \n",
    "                axis=1, keys=['Train Dataset',' Test Dataset']) \n",
    "print(assumption1)"
   ]
  },
  {
   "cell_type": "code",
   "execution_count": 12,
   "metadata": {},
   "outputs": [
    {
     "name": "stdout",
     "output_type": "stream",
     "text": [
      "('TRAIN: shape :', (690, 2), '\\n', 'TEST: shape :', (690, 2))\n"
     ]
    }
   ],
   "source": [
    "print('TRAIN: shape :', (train[train['FireplaceQu'].isnull()][['Fireplaces','FireplaceQu']].shape),\n",
    "        '\\n','TEST: shape :',  (train[train['FireplaceQu'].isnull()][['Fireplaces','FireplaceQu']].shape))"
   ]
  },
  {
   "cell_type": "code",
   "execution_count": 13,
   "metadata": {},
   "outputs": [
    {
     "name": "stdout",
     "output_type": "stream",
     "text": [
      "Confirm Imputation for train\n",
      "Fireplaces     0    1   2  3\n",
      "FireplaceQu                 \n",
      "Ex             0   19   4  1\n",
      "Fa             0   28   4  1\n",
      "Gd             0  324  54  2\n",
      "None         690    0   0  0\n",
      "Po             0   20   0  0\n",
      "TA             0  259  53  1\n",
      "--------------------------------------------------------------------------------\n",
      "Confirm Imputation for test\n",
      "Fireplaces     0    1   2  3  4\n",
      "FireplaceQu                    \n",
      "Ex             0   18   1  0  0\n",
      "Fa             0   35   6  0  0\n",
      "Gd             0  303  58  3  0\n",
      "None         730    0   0  0  0\n",
      "Po             0   26   0  0  0\n",
      "TA             0  236  39  3  1\n"
     ]
    }
   ],
   "source": [
    "# Impute the nulls with None \n",
    "train['FireplaceQu'] = train['FireplaceQu'].fillna('None')\n",
    "test['FireplaceQu'] = test['FireplaceQu'].fillna('None')\n",
    "\n",
    "# Cross check columns\n",
    "print('Confirm Imputation for train')\n",
    "print(pd.crosstab(train.FireplaceQu,train.Fireplaces,))\n",
    "print('--'*40)\n",
    "print('Confirm Imputation for test')\n",
    "print(pd.crosstab(test.FireplaceQu,test.Fireplaces,))"
   ]
  },
  {
   "cell_type": "code",
   "execution_count": 12,
   "metadata": {},
   "outputs": [
    {
     "name": "stdout",
     "output_type": "stream",
     "text": [
      "('TRAIN: LotFrontage Missing Before:', 259, '\\n', 'TEST: LotFrontage Missing Before:', 227)\n"
     ]
    }
   ],
   "source": [
    "print('TRAIN: LotFrontage Missing Before:', train['LotFrontage'].isnull().sum(),'\\n','TEST: LotFrontage Missing Before:', test['LotFrontage'].isnull().sum())"
   ]
  },
  {
   "cell_type": "code",
   "execution_count": 14,
   "metadata": {},
   "outputs": [
    {
     "name": "stdout",
     "output_type": "stream",
     "text": [
      "Numeric features by Correlation with LotFrontage:\n",
      "\n",
      "1stFlrSF: \t0.457181001995\n",
      "LotArea: \t0.426095018772\n",
      "GrLivArea: \t0.402797414085\n",
      "TotalBsmtSF: \t0.392074576379\n",
      "MSSubClass: \t-0.386346885345\n",
      "TotRmsAbvGrd: \t0.35209594766\n",
      "SalePrice: \t0.351799096571\n",
      "GarageArea: \t0.344996724106\n",
      "GarageCars: \t0.285690924685\n",
      "Fireplaces: \t0.26663948256\n",
      "BedroomAbvGr: \t0.263169915881\n",
      "OverallQual: \t0.251645775481\n",
      "BsmtFinSF1: \t0.23363316702\n",
      "PoolArea: \t0.206166775276\n",
      "FullBath: \t0.198768677897\n",
      "MasVnrArea: \t0.193458060558\n",
      "OpenPorchSF: \t0.151972227681\n",
      "BsmtUnfSF: \t0.132643741625\n",
      "YearBuilt: \t0.123349467033\n",
      "BsmtFullBath: \t0.100948566949\n",
      "YearRemodAdd: \t0.0888655724921\n",
      "WoodDeckSF: \t0.0885209332894\n",
      "2ndFlrSF: \t0.0801772706242\n",
      "GarageYrBlt: \t0.0702497819166\n",
      "3SsnPorch: \t0.0700292277309\n",
      "OverallCond: \t-0.0592134500052\n",
      "HalfBath: \t0.0535318549796\n",
      "BsmtFinSF2: \t0.049899676691\n",
      "ScreenPorch: \t0.041382790675\n",
      "LowQualFinSF: \t0.038468534329\n",
      "MoSold: \t0.0111999547591\n",
      "EnclosedPorch: \t0.0107003366389\n",
      "YrSold: \t0.00744958920978\n",
      "BsmtHalfBath: \t-0.00723430452492\n",
      "KitchenAbvGr: \t-0.00606883016131\n",
      "MiscVal: \t0.00336755659619\n"
     ]
    }
   ],
   "source": [
    "#TRAIN: missing 259 observations. \n",
    "#TEST: missing 227 observations. \n",
    "#First check if there are other variables that are strongly correlated with LotFrontage can be used for imputation. \n",
    "#Otherwise impute with the median LotFrontage value.\n",
    "\n",
    "# Check above mentioned assumption\n",
    "corr_lf = train.select_dtypes(include = ['float64', 'int64']).iloc[:, 1:].corr()\n",
    "cor_dict_lf = corr_lf['LotFrontage'].to_dict()\n",
    "del cor_dict_lf['LotFrontage']\n",
    "print(\"Numeric features by Correlation with LotFrontage:\\n\")\n",
    "for ele in sorted(cor_dict_lf.items(), key = lambda x: -abs(x[1])):\n",
    "    print(\"{0}: \\t{1}\".format(*ele))"
   ]
  },
  {
   "cell_type": "code",
   "execution_count": 15,
   "metadata": {},
   "outputs": [],
   "source": [
    "train['LotFrontage'] = train['LotFrontage'].fillna(train['LotFrontage'].median())\n",
    "test['LotFrontage'] = test['LotFrontage'].fillna(test['LotFrontage'].median())"
   ]
  },
  {
   "cell_type": "code",
   "execution_count": 14,
   "metadata": {},
   "outputs": [
    {
     "name": "stdout",
     "output_type": "stream",
     "text": [
      "Numeric features by Correlation with LotFrontage:\n",
      "\n",
      "1stFlrSF: \t0.457181001995\n",
      "LotArea: \t0.426095018772\n",
      "GrLivArea: \t0.402797414085\n",
      "TotalBsmtSF: \t0.392074576379\n",
      "MSSubClass: \t-0.386346885345\n",
      "TotRmsAbvGrd: \t0.35209594766\n",
      "SalePrice: \t0.351799096571\n",
      "GarageArea: \t0.344996724106\n",
      "GarageCars: \t0.285690924685\n",
      "Fireplaces: \t0.26663948256\n",
      "BedroomAbvGr: \t0.263169915881\n",
      "OverallQual: \t0.251645775481\n",
      "BsmtFinSF1: \t0.23363316702\n",
      "PoolArea: \t0.206166775276\n",
      "FullBath: \t0.198768677897\n",
      "MasVnrArea: \t0.193458060558\n",
      "OpenPorchSF: \t0.151972227681\n",
      "BsmtUnfSF: \t0.132643741625\n",
      "YearBuilt: \t0.123349467033\n",
      "BsmtFullBath: \t0.100948566949\n",
      "YearRemodAdd: \t0.0888655724921\n",
      "WoodDeckSF: \t0.0885209332894\n",
      "2ndFlrSF: \t0.0801772706242\n",
      "GarageYrBlt: \t0.0702497819166\n",
      "3SsnPorch: \t0.0700292277309\n",
      "OverallCond: \t-0.0592134500052\n",
      "HalfBath: \t0.0535318549796\n",
      "BsmtFinSF2: \t0.049899676691\n",
      "ScreenPorch: \t0.041382790675\n",
      "LowQualFinSF: \t0.038468534329\n",
      "MoSold: \t0.0111999547591\n",
      "EnclosedPorch: \t0.0107003366389\n",
      "YrSold: \t0.00744958920978\n",
      "BsmtHalfBath: \t-0.00723430452492\n",
      "KitchenAbvGr: \t-0.00606883016131\n",
      "MiscVal: \t0.00336755659619\n"
     ]
    }
   ],
   "source": [
    "#TRAIN: missing 259 observations. \n",
    "#TEST: missing 227 observations. \n",
    "#First check if there are other variables that are strongly correlated with LotFrontage can be used for imputation. \n",
    "#Otherwise impute with the median LotFrontage value.\n",
    "\n",
    "# Check above mentioned assumption\n",
    "corr_lf = train.select_dtypes(include = ['float64', 'int64']).iloc[:, 1:].corr()\n",
    "cor_dict_lf = corr_lf['LotFrontage'].to_dict()\n",
    "del cor_dict_lf['LotFrontage']\n",
    "print(\"Numeric features by Correlation with LotFrontage:\\n\")\n",
    "for ele in sorted(cor_dict_lf.items(), key = lambda x: -abs(x[1])):\n",
    "    print(\"{0}: \\t{1}\".format(*ele))"
   ]
  },
  {
   "cell_type": "code",
   "execution_count": 15,
   "metadata": {},
   "outputs": [],
   "source": [
    "# Nothing highly correlated to LotFrontage so we will impute with the mean\n",
    "\n",
    "train['LotFrontage'] = train['LotFrontage'].fillna(train['LotFrontage'].median())\n",
    "test['LotFrontage'] = test['LotFrontage'].fillna(test['LotFrontage'].median())"
   ]
  },
  {
   "cell_type": "code",
   "execution_count": 16,
   "metadata": {},
   "outputs": [
    {
     "name": "stdout",
     "output_type": "stream",
     "text": [
      "Garage Features Missing Before\n",
      "--------------------------------------------------------------------------------\n",
      "              Train Dataset   Test Dataset\n",
      "GarageYrBlt              81             81\n",
      "GarageType               81             81\n",
      "GarageFinish             81             81\n",
      "GarageQual               81             81\n",
      "GarageCond               81             81\n"
     ]
    }
   ],
   "source": [
    "print('Garage Features Missing Before')\n",
    "print('--'*40)\n",
    "print(pd.concat([(train[['GarageYrBlt', 'GarageType', 'GarageFinish','GarageQual','GarageCond']].isnull().sum()),\n",
    "                (train[['GarageYrBlt', 'GarageType', 'GarageFinish','GarageQual','GarageCond']].isnull().sum())], \n",
    "                axis=1, keys=['Train Dataset',' Test Dataset']) )"
   ]
  },
  {
   "cell_type": "code",
   "execution_count": 17,
   "metadata": {},
   "outputs": [
    {
     "name": "stdout",
     "output_type": "stream",
     "text": [
      "--------------------------------------------------------------------------------\n",
      "Assumption Check TRAIN DATASET\n",
      "      GarageCars  GarageYrBlt GarageType GarageQual GarageCond GarageFinish\n",
      "39             0          NaN        NaN        NaN        NaN          NaN\n",
      "48             0          NaN        NaN        NaN        NaN          NaN\n",
      "78             0          NaN        NaN        NaN        NaN          NaN\n",
      "88             0          NaN        NaN        NaN        NaN          NaN\n",
      "89             0          NaN        NaN        NaN        NaN          NaN\n",
      "99             0          NaN        NaN        NaN        NaN          NaN\n",
      "108            0          NaN        NaN        NaN        NaN          NaN\n",
      "125            0          NaN        NaN        NaN        NaN          NaN\n",
      "127            0          NaN        NaN        NaN        NaN          NaN\n",
      "140            0          NaN        NaN        NaN        NaN          NaN\n",
      "148            0          NaN        NaN        NaN        NaN          NaN\n",
      "155            0          NaN        NaN        NaN        NaN          NaN\n",
      "163            0          NaN        NaN        NaN        NaN          NaN\n",
      "165            0          NaN        NaN        NaN        NaN          NaN\n",
      "198            0          NaN        NaN        NaN        NaN          NaN\n",
      "210            0          NaN        NaN        NaN        NaN          NaN\n",
      "241            0          NaN        NaN        NaN        NaN          NaN\n",
      "250            0          NaN        NaN        NaN        NaN          NaN\n",
      "287            0          NaN        NaN        NaN        NaN          NaN\n",
      "291            0          NaN        NaN        NaN        NaN          NaN\n",
      "307            0          NaN        NaN        NaN        NaN          NaN\n",
      "375            0          NaN        NaN        NaN        NaN          NaN\n",
      "386            0          NaN        NaN        NaN        NaN          NaN\n",
      "393            0          NaN        NaN        NaN        NaN          NaN\n",
      "431            0          NaN        NaN        NaN        NaN          NaN\n",
      "434            0          NaN        NaN        NaN        NaN          NaN\n",
      "441            0          NaN        NaN        NaN        NaN          NaN\n",
      "464            0          NaN        NaN        NaN        NaN          NaN\n",
      "495            0          NaN        NaN        NaN        NaN          NaN\n",
      "520            0          NaN        NaN        NaN        NaN          NaN\n",
      "...          ...          ...        ...        ...        ...          ...\n",
      "954            0          NaN        NaN        NaN        NaN          NaN\n",
      "960            0          NaN        NaN        NaN        NaN          NaN\n",
      "968            0          NaN        NaN        NaN        NaN          NaN\n",
      "970            0          NaN        NaN        NaN        NaN          NaN\n",
      "976            0          NaN        NaN        NaN        NaN          NaN\n",
      "1009           0          NaN        NaN        NaN        NaN          NaN\n",
      "1011           0          NaN        NaN        NaN        NaN          NaN\n",
      "1030           0          NaN        NaN        NaN        NaN          NaN\n",
      "1038           0          NaN        NaN        NaN        NaN          NaN\n",
      "1096           0          NaN        NaN        NaN        NaN          NaN\n",
      "1123           0          NaN        NaN        NaN        NaN          NaN\n",
      "1131           0          NaN        NaN        NaN        NaN          NaN\n",
      "1137           0          NaN        NaN        NaN        NaN          NaN\n",
      "1143           0          NaN        NaN        NaN        NaN          NaN\n",
      "1173           0          NaN        NaN        NaN        NaN          NaN\n",
      "1179           0          NaN        NaN        NaN        NaN          NaN\n",
      "1218           0          NaN        NaN        NaN        NaN          NaN\n",
      "1219           0          NaN        NaN        NaN        NaN          NaN\n",
      "1234           0          NaN        NaN        NaN        NaN          NaN\n",
      "1257           0          NaN        NaN        NaN        NaN          NaN\n",
      "1283           0          NaN        NaN        NaN        NaN          NaN\n",
      "1323           0          NaN        NaN        NaN        NaN          NaN\n",
      "1325           0          NaN        NaN        NaN        NaN          NaN\n",
      "1326           0          NaN        NaN        NaN        NaN          NaN\n",
      "1337           0          NaN        NaN        NaN        NaN          NaN\n",
      "1349           0          NaN        NaN        NaN        NaN          NaN\n",
      "1407           0          NaN        NaN        NaN        NaN          NaN\n",
      "1449           0          NaN        NaN        NaN        NaN          NaN\n",
      "1450           0          NaN        NaN        NaN        NaN          NaN\n",
      "1453           0          NaN        NaN        NaN        NaN          NaN\n",
      "\n",
      "[81 rows x 6 columns]\n",
      "--------------------------------------------------------------------------------\n",
      "Assumption Check TEST DATASET\n",
      "      GarageYrBlt GarageCond GarageQual GarageFinish GarageType  GarageCars  \\\n",
      "53            NaN        NaN        NaN          NaN        NaN         0.0   \n",
      "71            NaN        NaN        NaN          NaN        NaN         0.0   \n",
      "79            NaN        NaN        NaN          NaN        NaN         0.0   \n",
      "92            NaN        NaN        NaN          NaN        NaN         0.0   \n",
      "96            NaN        NaN        NaN          NaN        NaN         0.0   \n",
      "98            NaN        NaN        NaN          NaN        NaN         0.0   \n",
      "100           NaN        NaN        NaN          NaN        NaN         0.0   \n",
      "130           NaN        NaN        NaN          NaN        NaN         0.0   \n",
      "133           NaN        NaN        NaN          NaN        NaN         0.0   \n",
      "134           NaN        NaN        NaN          NaN        NaN         0.0   \n",
      "154           NaN        NaN        NaN          NaN        NaN         0.0   \n",
      "155           NaN        NaN        NaN          NaN        NaN         0.0   \n",
      "257           NaN        NaN        NaN          NaN        NaN         0.0   \n",
      "261           NaN        NaN        NaN          NaN        NaN         0.0   \n",
      "327           NaN        NaN        NaN          NaN        NaN         0.0   \n",
      "348           NaN        NaN        NaN          NaN        NaN         0.0   \n",
      "350           NaN        NaN        NaN          NaN        NaN         0.0   \n",
      "351           NaN        NaN        NaN          NaN        NaN         0.0   \n",
      "359           NaN        NaN        NaN          NaN        NaN         0.0   \n",
      "362           NaN        NaN        NaN          NaN        NaN         0.0   \n",
      "371           NaN        NaN        NaN          NaN        NaN         0.0   \n",
      "374           NaN        NaN        NaN          NaN        NaN         0.0   \n",
      "376           NaN        NaN        NaN          NaN        NaN         0.0   \n",
      "379           NaN        NaN        NaN          NaN        NaN         0.0   \n",
      "387           NaN        NaN        NaN          NaN        NaN         0.0   \n",
      "433           NaN        NaN        NaN          NaN        NaN         0.0   \n",
      "550           NaN        NaN        NaN          NaN        NaN         0.0   \n",
      "621           NaN        NaN        NaN          NaN        NaN         0.0   \n",
      "630           NaN        NaN        NaN          NaN        NaN         0.0   \n",
      "633           NaN        NaN        NaN          NaN        NaN         0.0   \n",
      "...           ...        ...        ...          ...        ...         ...   \n",
      "939           NaN        NaN        NaN          NaN        NaN         0.0   \n",
      "962           NaN        NaN        NaN          NaN        NaN         0.0   \n",
      "966           NaN        NaN        NaN          NaN        NaN         0.0   \n",
      "1092          NaN        NaN        NaN          NaN        NaN         0.0   \n",
      "1093          NaN        NaN        NaN          NaN        NaN         0.0   \n",
      "1097          NaN        NaN        NaN          NaN        NaN         0.0   \n",
      "1115          NaN        NaN        NaN          NaN        NaN         0.0   \n",
      "1116          NaN        NaN        NaN          NaN     Detchd         NaN   \n",
      "1119          NaN        NaN        NaN          NaN        NaN         0.0   \n",
      "1143          NaN        NaN        NaN          NaN        NaN         0.0   \n",
      "1149          NaN        NaN        NaN          NaN        NaN         0.0   \n",
      "1231          NaN        NaN        NaN          NaN        NaN         0.0   \n",
      "1233          NaN        NaN        NaN          NaN        NaN         0.0   \n",
      "1248          NaN        NaN        NaN          NaN        NaN         0.0   \n",
      "1307          NaN        NaN        NaN          NaN        NaN         0.0   \n",
      "1311          NaN        NaN        NaN          NaN        NaN         0.0   \n",
      "1329          NaN        NaN        NaN          NaN        NaN         0.0   \n",
      "1331          NaN        NaN        NaN          NaN        NaN         0.0   \n",
      "1339          NaN        NaN        NaN          NaN        NaN         0.0   \n",
      "1399          NaN        NaN        NaN          NaN        NaN         0.0   \n",
      "1402          NaN        NaN        NaN          NaN        NaN         0.0   \n",
      "1410          NaN        NaN        NaN          NaN        NaN         0.0   \n",
      "1428          NaN        NaN        NaN          NaN        NaN         0.0   \n",
      "1431          NaN        NaN        NaN          NaN        NaN         0.0   \n",
      "1432          NaN        NaN        NaN          NaN        NaN         0.0   \n",
      "1433          NaN        NaN        NaN          NaN        NaN         0.0   \n",
      "1449          NaN        NaN        NaN          NaN        NaN         0.0   \n",
      "1453          NaN        NaN        NaN          NaN        NaN         0.0   \n",
      "1454          NaN        NaN        NaN          NaN        NaN         0.0   \n",
      "1457          NaN        NaN        NaN          NaN        NaN         0.0   \n",
      "\n",
      "      GarageArea  \n",
      "53           0.0  \n",
      "71           0.0  \n",
      "79           0.0  \n",
      "92           0.0  \n",
      "96           0.0  \n",
      "98           0.0  \n",
      "100          0.0  \n",
      "130          0.0  \n",
      "133          0.0  \n",
      "134          0.0  \n",
      "154          0.0  \n",
      "155          0.0  \n",
      "257          0.0  \n",
      "261          0.0  \n",
      "327          0.0  \n",
      "348          0.0  \n",
      "350          0.0  \n",
      "351          0.0  \n",
      "359          0.0  \n",
      "362          0.0  \n",
      "371          0.0  \n",
      "374          0.0  \n",
      "376          0.0  \n",
      "379          0.0  \n",
      "387          0.0  \n",
      "433          0.0  \n",
      "550          0.0  \n",
      "621          0.0  \n",
      "630          0.0  \n",
      "633          0.0  \n",
      "...          ...  \n",
      "939          0.0  \n",
      "962          0.0  \n",
      "966          0.0  \n",
      "1092         0.0  \n",
      "1093         0.0  \n",
      "1097         0.0  \n",
      "1115         0.0  \n",
      "1116         NaN  \n",
      "1119         0.0  \n",
      "1143         0.0  \n",
      "1149         0.0  \n",
      "1231         0.0  \n",
      "1233         0.0  \n",
      "1248         0.0  \n",
      "1307         0.0  \n",
      "1311         0.0  \n",
      "1329         0.0  \n",
      "1331         0.0  \n",
      "1339         0.0  \n",
      "1399         0.0  \n",
      "1402         0.0  \n",
      "1410         0.0  \n",
      "1428         0.0  \n",
      "1431         0.0  \n",
      "1432         0.0  \n",
      "1433         0.0  \n",
      "1449         0.0  \n",
      "1453         0.0  \n",
      "1454         0.0  \n",
      "1457         0.0  \n",
      "\n",
      "[78 rows x 7 columns]\n"
     ]
    }
   ],
   "source": [
    "#TRAIN: missing 259 observations. \n",
    "#TEST: missing 227 observations. \n",
    "#These null values are assumed to be in the same rows for each column and associated with homes \n",
    "#that do not have garages at all. \n",
    "#If these assumptions are correct, the nulls can be inputed with zero as these are properties without garages.\n",
    "\n",
    "# Assumptions check\n",
    "print('--'*40)\n",
    "print('Assumption Check TRAIN DATASET')\n",
    "null_garage = ['GarageYrBlt','GarageType','GarageQual','GarageCond','GarageFinish']\n",
    "print(train[(train['GarageYrBlt'].isnull())|\n",
    "                 (train['GarageType'].isnull())|\n",
    "                 (train['GarageQual'].isnull())|\n",
    "                 (train['GarageCond'].isnull())|\n",
    "                 (train['GarageFinish'].isnull())]\n",
    "                 [['GarageCars','GarageYrBlt','GarageType','GarageQual','GarageCond','GarageFinish']])\n",
    "print('--'*40)\n",
    "print('Assumption Check TEST DATASET')\n",
    "print(test[(test['GarageYrBlt'].isnull())|\n",
    "                 (test['GarageCond'].isnull())|\n",
    "                 (test['GarageQual'].isnull())|\n",
    "                (test['GarageFinish'].isnull())|\n",
    "                (test['GarageType'].isnull())|\n",
    "                (test['GarageCars'].isnull())|\n",
    "                (test['GarageArea'].isnull())]\n",
    "                 [['GarageYrBlt','GarageCond','GarageQual', 'GarageFinish','GarageType','GarageCars','GarageArea']])"
   ]
  },
  {
   "cell_type": "code",
   "execution_count": 18,
   "metadata": {},
   "outputs": [],
   "source": [
    "# Impute nulls at index 666 that have a garage with most common value in each column for categorical variables \n",
    "test.iloc[666, test.columns.get_loc('GarageYrBlt')] = test['GarageYrBlt'].mode()[0]\n",
    "test.iloc[666, test.columns.get_loc('GarageCond')] = test['GarageCond'].mode()[0]\n",
    "test.iloc[666, test.columns.get_loc('GarageFinish')] = test['GarageFinish'].mode()[0]\n",
    "test.iloc[666, test.columns.get_loc('GarageQual')] = test['GarageQual'].mode()[0]\n",
    "test.iloc[666, test.columns.get_loc('GarageType')] = test['GarageType'].mode()[0]\n",
    "\n",
    "# Impute nulls at index 1116 that have a garage with most common value in each column for categorical variables \n",
    "test.iloc[1116, test.columns.get_loc('GarageYrBlt')] = test['GarageYrBlt'].mode()[0]\n",
    "test.iloc[1116, test.columns.get_loc('GarageCond')] = test['GarageCond'].mode()[0]\n",
    "test.iloc[1116, test.columns.get_loc('GarageFinish')] = test['GarageFinish'].mode()[0]\n",
    "test.iloc[1116, test.columns.get_loc('GarageQual')] = test['GarageQual'].mode()[0]\n",
    "test.iloc[1116, test.columns.get_loc('GarageType')] = test['GarageType'].mode()[0]\n",
    "\n",
    "# Impute nulls at index 1116 that have a garage with median value in each column for continuous variables \n",
    "test.iloc[1116, test.columns.get_loc('GarageCars')] = test['GarageCars'].median()\n",
    "test.iloc[1116, test.columns.get_loc('GarageArea')] = test['GarageArea'].median()"
   ]
  },
  {
   "cell_type": "code",
   "execution_count": 19,
   "metadata": {},
   "outputs": [],
   "source": [
    "# Impute the remaining nulls as None\n",
    "null_garage2 = ['GarageYrBlt','GarageCond','GarageFinish','GarageQual', 'GarageType','GarageCars','GarageArea']\n",
    "\n",
    "for cols in null_garage2:\n",
    "    if(train[cols].dtype ==np.object)&(test[cols].dtype ==np.object) :\n",
    "         feat_impute(cols, 'None')\n",
    "    else:\n",
    "         feat_impute(cols, 0)"
   ]
  },
  {
   "cell_type": "code",
   "execution_count": 20,
   "metadata": {},
   "outputs": [
    {
     "name": "stdout",
     "output_type": "stream",
     "text": [
      "Confirm Imputation\n",
      "GarageCars    0   1   2   3  4\n",
      "GarageYrBlt                   \n",
      "0.0          81   0   0   0  0\n",
      "1900.0        0   0   1   0  0\n",
      "1906.0        0   1   0   0  0\n",
      "1908.0        0   0   1   0  0\n",
      "1910.0        0   1   2   0  0\n",
      "1914.0        0   1   1   0  0\n",
      "1915.0        0   2   0   0  0\n",
      "1916.0        0   4   0   1  0\n",
      "1918.0        0   0   1   1  0\n",
      "1920.0        0  10   3   1  0\n",
      "1921.0        0   2   1   0  0\n",
      "1922.0        0   4   1   0  0\n",
      "1923.0        0   2   1   0  0\n",
      "1924.0        0   3   0   0  0\n",
      "1925.0        0   7   3   0  0\n",
      "1926.0        0   6   0   0  0\n",
      "1927.0        0   0   1   0  0\n",
      "1928.0        0   3   1   0  0\n",
      "1929.0        0   1   1   0  0\n",
      "1930.0        0   5   3   0  0\n",
      "1931.0        0   2   2   0  0\n",
      "1932.0        0   1   2   0  0\n",
      "1933.0        0   1   0   0  0\n",
      "1934.0        0   1   1   0  0\n",
      "1935.0        0   2   2   0  0\n",
      "1936.0        0   5   0   0  0\n",
      "1937.0        0   2   0   0  0\n",
      "1938.0        0   3   0   0  0\n",
      "1939.0        0   7   2   0  0\n",
      "1940.0        0  13   1   0  0\n",
      "...          ..  ..  ..  .. ..\n",
      "1981.0        0   3   6   1  0\n",
      "1982.0        0   3   0   1  0\n",
      "1983.0        0   0   7   0  0\n",
      "1984.0        0   2   6   0  0\n",
      "1985.0        0   1   9   0  0\n",
      "1986.0        0   0   6   0  0\n",
      "1987.0        0   2   9   0  0\n",
      "1988.0        0   1  12   1  0\n",
      "1989.0        0   2   7   1  0\n",
      "1990.0        0   2  11   3  0\n",
      "1991.0        0   1   7   1  0\n",
      "1992.0        0   0  13   0  0\n",
      "1993.0        0   0  17   5  0\n",
      "1994.0        0   1  12   5  0\n",
      "1995.0        0   0  13   5  0\n",
      "1996.0        0   1  15   4  0\n",
      "1997.0        0   2  15   1  1\n",
      "1998.0        0   1  25   5  0\n",
      "1999.0        0   1  25   4  0\n",
      "2000.0        0   0  23   4  0\n",
      "2001.0        0   0  17   3  0\n",
      "2002.0        0   2  19   5  0\n",
      "2003.0        0   1  39  10  0\n",
      "2004.0        0   0  43  10  0\n",
      "2005.0        0   0  49  16  0\n",
      "2006.0        0   0  28  31  0\n",
      "2007.0        0   0  24  25  0\n",
      "2008.0        0   1   9  19  0\n",
      "2009.0        0   0  11  10  0\n",
      "2010.0        0   0   1   2  0\n",
      "\n",
      "[98 rows x 5 columns]\n",
      "GarageCars   0.0  1.0  2.0  3.0  4.0  5.0\n",
      "GarageYrBlt                              \n",
      "0.0           76    0    0    0    0    0\n",
      "1895.0         0    1    0    0    0    0\n",
      "1896.0         0    1    0    0    0    0\n",
      "1900.0         0    3    2    0    0    0\n",
      "1910.0         0    5    2    0    0    0\n",
      "1915.0         0    4    1    0    0    0\n",
      "1916.0         0    0    1    0    0    0\n",
      "1917.0         0    2    0    0    0    0\n",
      "1918.0         0    1    0    0    0    0\n",
      "1919.0         0    1    0    0    0    0\n",
      "1920.0         0   14    5    0    0    0\n",
      "1921.0         0    2    0    0    0    0\n",
      "1922.0         0    3    0    0    0    0\n",
      "1923.0         0    3    0    0    0    0\n",
      "1924.0         0    3    2    0    0    0\n",
      "1925.0         0    5    0    0    0    0\n",
      "1926.0         0    8    1    0    0    0\n",
      "1927.0         0    3    1    0    0    0\n",
      "1928.0         0    1    1    1    0    0\n",
      "1930.0         0   13    6    0    0    0\n",
      "1932.0         0    1    0    0    0    0\n",
      "1934.0         0    2    0    0    0    0\n",
      "1935.0         0    1    3    0    0    0\n",
      "1936.0         0    2    0    0    0    0\n",
      "1937.0         0    3    1    0    0    0\n",
      "1938.0         0    7    1    0    0    0\n",
      "1939.0         0    8    4    0    0    0\n",
      "1940.0         0    8    3    0    0    0\n",
      "1941.0         0    3    0    1    0    0\n",
      "1942.0         0    4    0    0    0    0\n",
      "...          ...  ...  ...  ...  ...  ...\n",
      "1982.0         0    1    2    1    0    1\n",
      "1983.0         0    2    2    0    0    0\n",
      "1984.0         0    4    7    0    0    0\n",
      "1985.0         0    1    7    0    0    0\n",
      "1986.0         0    0    6    0    0    0\n",
      "1987.0         0    2    5    0    0    0\n",
      "1988.0         0    0    6    0    0    0\n",
      "1989.0         0    0    8    1    0    0\n",
      "1990.0         0    1    9    0    0    0\n",
      "1991.0         0    0    8    0    0    0\n",
      "1992.0         0    2   10    2    0    0\n",
      "1993.0         0    1   20    5    1    0\n",
      "1994.0         0    1   18    2    0    0\n",
      "1995.0         0    3   11    3    0    0\n",
      "1996.0         0    1   15    4    0    0\n",
      "1997.0         0    3   20    0    2    0\n",
      "1998.0         0    1   16   10    0    0\n",
      "1999.0         0    0   22    2    0    0\n",
      "2000.0         0    0   19    5    4    0\n",
      "2001.0         0    2   17    2    0    0\n",
      "2002.0         0    1   19    7    0    0\n",
      "2003.0         0    0   30   12    0    0\n",
      "2004.0         0    3   30   13    0    0\n",
      "2005.0         0    1   52   25    1    0\n",
      "2006.0         0    0   30   26    0    0\n",
      "2007.0         0    0   35   31    0    0\n",
      "2008.0         0    1   11   20    0    0\n",
      "2009.0         0    0    4    4    0    0\n",
      "2010.0         0    0    1    1    0    0\n",
      "2207.0         0    0    1    0    0    0\n",
      "\n",
      "[98 rows x 6 columns]\n",
      "GarageCars   0    1    2    3  4\n",
      "GarageType                      \n",
      "2Types       0    0    1    4  1\n",
      "Attchd       0  171  560  138  1\n",
      "Basment      0    8   11    0  0\n",
      "BuiltIn      0    8   50   30  0\n",
      "CarPort      0    3    6    0  0\n",
      "Detchd       0  179  196    9  3\n",
      "None        81    0    0    0  0\n",
      "GarageCars  0.0  1.0  2.0  3.0  4.0  5.0\n",
      "GarageType                              \n",
      "2Types        0    1    6    8    2    0\n",
      "Attchd        0  189  522  140    4    0\n",
      "Basment       0    8    9    0    0    0\n",
      "BuiltIn       0    9   45   40    4    0\n",
      "CarPort       0    4    1    1    0    0\n",
      "Detchd        0  196  188    4    1    1\n",
      "None         76    0    0    0    0    0\n",
      "GarageCars   0    1    2    3  4\n",
      "GarageQual                      \n",
      "Ex           0    2    0    1  0\n",
      "Fa           0   33   13    2  0\n",
      "Gd           0    2   12    0  0\n",
      "None        81    0    0    0  0\n",
      "Po           0    3    0    0  0\n",
      "TA           0  329  799  178  5\n",
      "GarageCars  0.0  1.0  2.0  3.0  4.0  5.0\n",
      "GarageQual                              \n",
      "Fa            0   55   18    1    1    1\n",
      "Gd            0    1    7    2    0    0\n",
      "None         76    0    0    0    0    0\n",
      "Po            0    2    0    0    0    0\n",
      "TA            0  349  746  190   10    0\n",
      "GarageCars   0    1    2    3  4\n",
      "GarageCond                      \n",
      "Ex           0    2    0    0  0\n",
      "Fa           0   21   12    2  0\n",
      "Gd           0    2    7    0  0\n",
      "None        81    0    0    0  0\n",
      "Po           0    6    1    0  0\n",
      "TA           0  338  804  179  5\n",
      "GarageCars  0.0  1.0  2.0  3.0  4.0  5.0\n",
      "GarageCond                              \n",
      "Ex            0    0    1    0    0    0\n",
      "Fa            0   26   13    0    0    0\n",
      "Gd            0    1    3    1    1    0\n",
      "None         76    0    0    0    0    0\n",
      "Po            0    4    3    0    0    0\n",
      "TA            0  376  751  192   10    1\n",
      "GarageCars     0    1    2   3  4\n",
      "GarageFinish                     \n",
      "Fin            0   23  231  96  2\n",
      "None          81    0    0   0  0\n",
      "RFn            0   60  297  65  0\n",
      "Unf            0  286  296  20  3\n",
      "GarageCars    0.0  1.0  2.0  3.0  4.0  5.0\n",
      "GarageFinish                              \n",
      "Fin             0   28  226  106    7    0\n",
      "None           76    0    0    0    0    0\n",
      "RFn             0   67  254   66    2    0\n",
      "Unf             0  312  291   21    2    1\n"
     ]
    }
   ],
   "source": [
    "# Cross check columns\n",
    "\n",
    "print('Confirm Imputation')\n",
    "for cols in null_garage:\n",
    "    print(pd.crosstab(train[cols],train.GarageCars))\n",
    "    print(pd.crosstab(test[cols],test.GarageCars))"
   ]
  },
  {
   "cell_type": "code",
   "execution_count": 21,
   "metadata": {},
   "outputs": [
    {
     "name": "stdout",
     "output_type": "stream",
     "text": [
      "('Missing Data Before', '\\n')\n",
      "('TRAIN:', 'BsmtFullBath', 0)\n",
      "('TEST:', 'BsmtFullBath', 2)\n",
      "--------------------------------------------------------------------------------\n",
      "('TRAIN:', 'BsmtHalfBath', 0)\n",
      "('TEST:', 'BsmtHalfBath', 2)\n",
      "--------------------------------------------------------------------------------\n",
      "('TRAIN:', 'BsmtFinSF1', 0)\n",
      "('TEST:', 'BsmtFinSF1', 1)\n",
      "--------------------------------------------------------------------------------\n",
      "('TRAIN:', 'BsmtFinSF2', 0)\n",
      "('TEST:', 'BsmtFinSF2', 1)\n",
      "--------------------------------------------------------------------------------\n",
      "('TRAIN:', 'BsmtUnfSF', 0)\n",
      "('TEST:', 'BsmtUnfSF', 1)\n",
      "--------------------------------------------------------------------------------\n",
      "('TRAIN:', 'TotalBsmtSF', 0)\n",
      "('TEST:', 'TotalBsmtSF', 1)\n",
      "--------------------------------------------------------------------------------\n",
      "('TRAIN:', 'BsmtCond', 37)\n",
      "('TEST:', 'BsmtCond', 45)\n",
      "--------------------------------------------------------------------------------\n",
      "('TRAIN:', 'BsmtExposure', 38)\n",
      "('TEST:', 'BsmtExposure', 44)\n",
      "--------------------------------------------------------------------------------\n",
      "('TRAIN:', 'BsmtQual', 37)\n",
      "('TEST:', 'BsmtQual', 44)\n",
      "--------------------------------------------------------------------------------\n",
      "('TRAIN:', 'BsmtFinType1', 37)\n",
      "('TEST:', 'BsmtFinType1', 42)\n",
      "--------------------------------------------------------------------------------\n",
      "('TRAIN:', 'BsmtFinType2', 38)\n",
      "('TEST:', 'BsmtFinType2', 42)\n",
      "--------------------------------------------------------------------------------\n"
     ]
    }
   ],
   "source": [
    "null_bsmt = ['BsmtFullBath','BsmtHalfBath','BsmtFinSF1','BsmtFinSF2','BsmtUnfSF',\n",
    "             'TotalBsmtSF','BsmtCond','BsmtExposure','BsmtQual','BsmtFinType1','BsmtFinType2']\n",
    "print('Missing Data Before','\\n')\n",
    "for cols in null_bsmt:\n",
    "    print('TRAIN:',cols,train[cols].isnull().sum())\n",
    "    print('TEST:',cols,test[cols].isnull().sum())\n",
    "    print('--'*40)"
   ]
  },
  {
   "cell_type": "code",
   "execution_count": 22,
   "metadata": {},
   "outputs": [],
   "source": [
    "train['BsmtQual'].fillna('NA', inplace = True)\n",
    "test['BsmtQual'].fillna('NA', inplace = True)\n",
    "\n",
    "train['BsmtCond'].fillna('NA', inplace = True)\n",
    "test['BsmtCond'].fillna('NA', inplace = True)\n",
    "\n",
    "train['BsmtExposure'].fillna('NA', inplace = True)\n",
    "test['BsmtExposure'].fillna('NA', inplace = True)\n",
    "\n",
    "train['BsmtFinType1'].fillna('NA', inplace = True)\n",
    "test['BsmtFinType1'].fillna('NA', inplace = True)\n",
    "\n",
    "train['BsmtFinType2'].fillna('NA', inplace = True)\n",
    "test['BsmtFinType2'].fillna('NA', inplace = True)\n",
    "\n",
    "test['BsmtFullBath'].fillna('NA', inplace = True)\n",
    "test['BsmtHalfBath'].fillna('NA', inplace = True)\n",
    "test['BsmtFinSF1'].fillna('NA', inplace = True)\n",
    "test['BsmtFinSF2'].fillna('NA', inplace = True)"
   ]
  },
  {
   "cell_type": "code",
   "execution_count": 27,
   "metadata": {},
   "outputs": [
    {
     "name": "stdout",
     "output_type": "stream",
     "text": [
      "Masonry Features Missing Before\n",
      "            Train Dataset   Test Dataset\n",
      "MasVnrArea              8             15\n",
      "MasVnrType              8             16\n"
     ]
    }
   ],
   "source": [
    "print('Masonry Features Missing Before')\n",
    "print(pd.concat([(train[['MasVnrArea', 'MasVnrType']].isnull().sum()),\n",
    "                (test[['MasVnrArea', 'MasVnrType']].isnull().sum())], \n",
    "                axis=1, keys=['Train Dataset',' Test Dataset']) )"
   ]
  },
  {
   "cell_type": "code",
   "execution_count": 28,
   "metadata": {},
   "outputs": [
    {
     "name": "stdout",
     "output_type": "stream",
     "text": [
      "Check Assumptions FOR TRAIN SET\n",
      "      MasVnrArea MasVnrType\n",
      "234          NaN        NaN\n",
      "529          NaN        NaN\n",
      "650          NaN        NaN\n",
      "936          NaN        NaN\n",
      "973          NaN        NaN\n",
      "977          NaN        NaN\n",
      "1243         NaN        NaN\n",
      "1278         NaN        NaN\n",
      "(8, 2)\n",
      "('--------------------------------------------------------------------------------', '\\nAssumption Check FOR TEST SET')\n",
      "     MasVnrType  MasVnrArea\n",
      "231         NaN         NaN\n",
      "246         NaN         NaN\n",
      "422         NaN         NaN\n",
      "532         NaN         NaN\n",
      "544         NaN         NaN\n",
      "581         NaN         NaN\n",
      "851         NaN         NaN\n",
      "865         NaN         NaN\n",
      "880         NaN         NaN\n",
      "889         NaN         NaN\n",
      "908         NaN         NaN\n",
      "1132        NaN         NaN\n",
      "1150        NaN       198.0\n",
      "1197        NaN         NaN\n",
      "1226        NaN         NaN\n",
      "1402        NaN         NaN\n"
     ]
    }
   ],
   "source": [
    "# MasVnrArea and MasVnrType are each missing 8 observations\n",
    "# Confirm that the missing values in these columns are the same rows\n",
    "print('Check Assumptions FOR TRAIN SET')\n",
    "print(train[(train['MasVnrArea'].isnull())|(train['MasVnrType'].isnull())]\n",
    "                 [['MasVnrArea','MasVnrType']])\n",
    "\n",
    "print(train[(train['MasVnrArea'].isnull())|(train['MasVnrType'].isnull())]\n",
    "                 [['MasVnrArea','MasVnrType']].shape)\n",
    "\n",
    "# View nulls in masonry features in Test set now\n",
    "print('--'*40,'\\nAssumption Check FOR TEST SET')\n",
    "print(test[(test['MasVnrType'].isnull())|(test['MasVnrType'].isnull())|\n",
    "                (test['MasVnrArea'].isnull())|(test['MasVnrArea'].isnull())]\n",
    "                 [['MasVnrType','MasVnrArea']])"
   ]
  },
  {
   "cell_type": "code",
   "execution_count": 29,
   "metadata": {},
   "outputs": [],
   "source": [
    "# Impute `MasVnrArea` with the most frequent values\n",
    "# feat_explore('MasVnrArea')\n",
    "# feat_impute('MasVnrArea','None')\n",
    "train['MasVnrArea'] = train['MasVnrArea'].fillna(train['MasVnrArea'].mode()[0])\n",
    "\n",
    "# Impute `MasVnrType` with the most frequent values\n",
    "# feat_explore('MasVnrType')\n",
    "# feat_impute('MasVnrType',0.0)\n",
    "\n",
    "# Impute exceptions to assumption that nulls correspond to homes with no exposure\n",
    "test.iloc[1150, test.columns.get_loc('MasVnrType')] = test['MasVnrType'].mode()[0]\n",
    "\n",
    "train['MasVnrType'] = train['MasVnrType'].fillna(train['MasVnrType'].mode()[0])"
   ]
  },
  {
   "cell_type": "code",
   "execution_count": 30,
   "metadata": {},
   "outputs": [],
   "source": [
    "# create list \n",
    "null_masonry = ['MasVnrType','MasVnrArea']\n",
    "\n",
    "for cols in null_masonry:\n",
    "    if((train[cols].dtype ==np.object)&(test[cols].dtype ==np.object)):\n",
    "        feat_impute(cols, 'None')\n",
    "    else:\n",
    "        feat_impute(cols, 0)"
   ]
  },
  {
   "cell_type": "code",
   "execution_count": 31,
   "metadata": {},
   "outputs": [
    {
     "name": "stdout",
     "output_type": "stream",
     "text": [
      "Electrical Feature Missing Before\n",
      "Electrical    1\n",
      "dtype: int64\n"
     ]
    }
   ],
   "source": [
    "# Electrical is only missing one value\n",
    "\n",
    "print('Electrical Feature Missing Before')\n",
    "print(train[['Electrical']].isnull().sum())"
   ]
  },
  {
   "cell_type": "code",
   "execution_count": 32,
   "metadata": {},
   "outputs": [
    {
     "name": "stdout",
     "output_type": "stream",
     "text": [
      "Electrical Feature Missing After\n",
      "Electrical    0\n",
      "dtype: int64\n",
      "--------------------------------------------------------------------------------\n"
     ]
    }
   ],
   "source": [
    "# Impute Electrical with the most frequent value, 'SBrkr'\n",
    "train['Electrical'] = train['Electrical'].fillna(train['Electrical'].mode()[0])\n",
    "\n",
    "#check now\n",
    "print('Electrical Feature Missing After')\n",
    "print(train[['Electrical']].isnull().sum())\n",
    "print('--'*40)"
   ]
  },
  {
   "cell_type": "code",
   "execution_count": 33,
   "metadata": {},
   "outputs": [
    {
     "name": "stdout",
     "output_type": "stream",
     "text": [
      "REMAINING Missing Data TEST SET\n",
      "('MSZoning', 4)\n",
      "('Utilities', 2)\n",
      "('Functional', 2)\n",
      "('Exterior2nd', 1)\n",
      "('Exterior1st', 1)\n",
      "('SaleType', 1)\n",
      "('KitchenQual', 1)\n",
      "('------------------------------------------------------------', '\\n', 'REMAINING Missing Data TRAIN SET')\n",
      "('MSZoning', 0)\n",
      "('Utilities', 0)\n",
      "('Functional', 0)\n",
      "('Exterior2nd', 0)\n",
      "('Exterior1st', 0)\n",
      "('SaleType', 0)\n",
      "('KitchenQual', 0)\n"
     ]
    }
   ],
   "source": [
    "null_others = ['MSZoning', 'Utilities','Functional','Exterior2nd','Exterior1st','SaleType','KitchenQual'] \n",
    "\n",
    "print('REMAINING Missing Data TEST SET')\n",
    "\n",
    "for cols in null_others:\n",
    "    print(cols,test[cols].isnull().sum())\n",
    "    \n",
    "print('--'*30,'\\n','REMAINING Missing Data TRAIN SET')\n",
    "\n",
    "for cols in null_others:\n",
    "    print(cols,train[cols].isnull().sum())"
   ]
  },
  {
   "cell_type": "code",
   "execution_count": 34,
   "metadata": {},
   "outputs": [
    {
     "name": "stdout",
     "output_type": "stream",
     "text": [
      "--------------------------------------------------------------------------------\n",
      "TEST SET : Missing Data After Imputation\n",
      "('MSZoning', 0)\n",
      "('Utilities', 0)\n",
      "('Functional', 0)\n",
      "('Exterior2nd', 0)\n",
      "('Exterior1st', 0)\n",
      "('SaleType', 0)\n",
      "('KitchenQual', 0)\n"
     ]
    }
   ],
   "source": [
    "for cols in null_others:\n",
    "    test[cols] = test[cols].mode()[0]\n",
    "\n",
    "print('--'*40)\n",
    "print('TEST SET : Missing Data After Imputation')\n",
    "for cols in null_others:\n",
    "    print(cols,test[cols].isnull().sum())"
   ]
  },
  {
   "cell_type": "code",
   "execution_count": 36,
   "metadata": {},
   "outputs": [
    {
     "name": "stdout",
     "output_type": "stream",
     "text": [
      "('Skewness of the original intended feature:', 1.3291026531678385)\n",
      "('Skewness of transformed feature', -0.03365667635294192)\n"
     ]
    }
   ],
   "source": [
    "#Proposed feature: '1stFlrSF' + '2ndFlrSF' to give us combined Floor Square Footage\n",
    "\n",
    "try_feature = (train['1stFlrSF'] + train['2ndFlrSF']).copy()\n",
    "print(\"Skewness of the original intended feature:\",skew(try_feature))\n",
    "print(\"Skewness of transformed feature\", skew(np.log1p(try_feature)))"
   ]
  },
  {
   "cell_type": "code",
   "execution_count": 37,
   "metadata": {},
   "outputs": [
    {
     "data": {
      "image/png": "[encoded data removed]",
      "text/plain": [
       "<Figure size 864x432 with 1 Axes>"
      ]
     },
     "metadata": {
      "needs_background": "light"
     },
     "output_type": "display_data"
    }
   ],
   "source": [
    "# we'll use the transformed feature:)\n",
    "try_feature = np.log1p(try_feature)\n",
    "matplotlib.rcParams['figure.figsize'] = (12.0, 6.0)\n",
    "\n",
    "# seaborn's regression plot\n",
    "sns.regplot(x=(try_feature), y=np.log1p(train['SalePrice']), data=train, order=1);"
   ]
  },
  {
   "cell_type": "code",
   "execution_count": 38,
   "metadata": {},
   "outputs": [],
   "source": [
    "# lets create the feature then\n",
    "train['1stFlr_2ndFlr_Sf'] = np.log1p(train['1stFlrSF'] + train['2ndFlrSF'])\n",
    "test['1stFlr_2ndFlr_Sf'] = np.log1p(test['1stFlrSF'] + test['2ndFlrSF'])"
   ]
  },
  {
   "cell_type": "code",
   "execution_count": 39,
   "metadata": {},
   "outputs": [
    {
     "name": "stdout",
     "output_type": "stream",
     "text": [
      "('Skewness of the original intended feature:', 1.427345461344283)\n",
      "('Skewness of transformed feature', 0.022891569554582644)\n"
     ]
    }
   ],
   "source": [
    "#Feature number 2 -> 1stflr+2ndflr+lowqualsf+GrLivArea = All_Liv_Area\n",
    "try_feature = (train['1stFlr_2ndFlr_Sf'] + train['LowQualFinSF'] + train['GrLivArea']).copy()\n",
    "print(\"Skewness of the original intended feature:\",skew(try_feature))\n",
    "print(\"Skewness of transformed feature\", skew(np.log1p(try_feature)))"
   ]
  },
  {
   "cell_type": "code",
   "execution_count": 40,
   "metadata": {},
   "outputs": [
    {
     "data": {
      "image/png": "[encoded data removed]",
      "text/plain": [
       "<Figure size 864x432 with 1 Axes>"
      ]
     },
     "metadata": {
      "needs_background": "light"
     },
     "output_type": "display_data"
    }
   ],
   "source": [
    "# hence, we'll use the transformed feature\n",
    "try_feature = np.log1p(try_feature)\n",
    "matplotlib.rcParams['figure.figsize'] = (12.0, 6.0)\n",
    "\n",
    "# seaborn's regression plot \n",
    "sns.regplot(x=(try_feature), y=np.log1p(train['SalePrice']), data=train, order=1);"
   ]
  },
  {
   "cell_type": "code",
   "execution_count": 41,
   "metadata": {},
   "outputs": [],
   "source": [
    "train['All_Liv_SF'] = np.log1p(train['1stFlr_2ndFlr_Sf'] + train['LowQualFinSF'] + train['GrLivArea'])\n",
    "test['All_Liv_SF'] = np.log1p(test['1stFlr_2ndFlr_Sf'] + test['LowQualFinSF'] + test['GrLivArea'])"
   ]
  },
  {
   "cell_type": "code",
   "execution_count": 42,
   "metadata": {},
   "outputs": [],
   "source": [
    "# get all features except Id and SalePrice\n",
    "feats = train.columns.difference(['Id','SalePrice'])\n",
    "\n",
    "# the most hassle free way of working with data is to concatenate them\n",
    "data_combo = pd.concat((train.loc[:,feats],\n",
    "                      test.loc[:,feats]))\n",
    "\n",
    "# But first, we log transform the target:\n",
    "train[\"SalePrice\"] = np.log1p(train[\"SalePrice\"])"
   ]
  },
  {
   "cell_type": "code",
   "execution_count": 43,
   "metadata": {},
   "outputs": [],
   "source": [
    "numeric_feats = data_combo.dtypes[data_combo.dtypes != \"object\"].index\n",
    "skewed_feats = train[numeric_feats].apply(lambda x: skew(x.dropna())) #compute skewness\n",
    "skewed_feats = skewed_feats[skewed_feats > 0.75]\n",
    "skewed_feats = skewed_feats.index\n",
    "\n",
    "data_combo[skewed_feats] = np.log1p(data_combo[skewed_feats])"
   ]
  },
  {
   "cell_type": "code",
   "execution_count": 44,
   "metadata": {},
   "outputs": [],
   "source": [
    "# getting dummies for all features. \n",
    "\n",
    "data_combo = pd.get_dummies(data_combo)"
   ]
  },
  {
   "cell_type": "code",
   "execution_count": 45,
   "metadata": {},
   "outputs": [
    {
     "name": "stdout",
     "output_type": "stream",
     "text": [
      "(2919, 1557)\n"
     ]
    }
   ],
   "source": [
    "print(data_combo.shape)"
   ]
  },
  {
   "cell_type": "code",
   "execution_count": 46,
   "metadata": {},
   "outputs": [],
   "source": [
    "# creating matrices for sklearn:\n",
    "\n",
    "X_train = data_combo[:train.shape[0]]\n",
    "X_test = data_combo[train.shape[0]:]\n",
    "y = train.SalePrice"
   ]
  },
  {
   "cell_type": "code",
   "execution_count": 53,
   "metadata": {},
   "outputs": [],
   "source": [
    "#But first, Let's devise a cross-validation methodology once and for all\n",
    "\n",
    "from sklearn.model_selection  import cross_val_score\n",
    "\n",
    "def rmse_cv(model):\n",
    "    rmse= np.sqrt(-cross_val_score(model, X_train, y, scoring=\"neg_mean_squared_error\", cv=5))\n",
    "    return(rmse)"
   ]
  },
  {
   "cell_type": "code",
   "execution_count": 54,
   "metadata": {},
   "outputs": [
    {
     "name": "stdout",
     "output_type": "stream",
     "text": [
      "('Mean:', 0.12248799239421615)\n",
      "('Min: ', 0.10273186844817653)\n"
     ]
    }
   ],
   "source": [
    "# first import library\n",
    "from sklearn.linear_model import LassoCV\n",
    "\n",
    "#now create our object\n",
    "model_lasso = LassoCV(alphas = [1, 0.1, 0.001, 0.0005], selection='random', max_iter=15000).fit(X_train, y)\n",
    "res = rmse_cv(model_lasso)\n",
    "print(\"Mean:\",res.mean())\n",
    "print(\"Min: \",res.min())"
   ]
  },
  {
   "cell_type": "code",
   "execution_count": 55,
   "metadata": {},
   "outputs": [
    {
     "name": "stdout",
     "output_type": "stream",
     "text": [
      "Lasso picked 117 variables and eliminated the other 1440 variables\n"
     ]
    }
   ],
   "source": [
    "coef = pd.Series(model_lasso.coef_, index = X_train.columns)\n",
    "print(\"Lasso picked \" + str(sum(coef != 0)) + \" variables and eliminated the other \" +  str(sum(coef == 0)) + \" variables\")"
   ]
  },
  {
   "cell_type": "code",
   "execution_count": 57,
   "metadata": {},
   "outputs": [
    {
     "data": {
      "text/plain": [
       "Text(0.5,1,'Coefficients in the Lasso Model')"
      ]
     },
     "execution_count": 57,
     "metadata": {},
     "output_type": "execute_result"
    },
    {
     "data": {
      "image/png": "[encoded data removed]",
      "text/plain": [
       "<Figure size 576x720 with 1 Axes>"
      ]
     },
     "metadata": {
      "needs_background": "light"
     },
     "output_type": "display_data"
    }
   ],
   "source": [
    " #plotting feature importances!\n",
    "imp_coef = pd.concat([coef.sort_values().head(10),\n",
    "                     coef.sort_values().tail(10)])\n",
    "matplotlib.rcParams['figure.figsize'] = (8.0, 10.0)\n",
    "imp_coef.plot(kind = \"barh\")\n",
    "plt.title(\"Coefficients in the Lasso Model\")"
   ]
  },
  {
   "cell_type": "code",
   "execution_count": null,
   "metadata": {},
   "outputs": [],
   "source": []
  }
 ],
 "metadata": {
  "kernelspec": {
   "display_name": "Python 3",
   "language": "python",
   "name": "python3"
  },
  "language_info": {
   "codemirror_mode": {
    "name": "ipython",
    "version": 3
   },
   "file_extension": ".py",
   "mimetype": "text/x-python",
   "name": "python",
   "nbconvert_exporter": "python",
   "pygments_lexer": "ipython3",
   "version": "3.6.2"
  }
 },
 "nbformat": 4,
 "nbformat_minor": 2
}
